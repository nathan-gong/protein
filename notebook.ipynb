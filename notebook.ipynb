{
  "nbformat": 4,
  "nbformat_minor": 0,
  "metadata": {
    "colab": {
      "name": "Untitled1.ipynb",
      "provenance": [],
      "authorship_tag": "ABX9TyPl06BiKh3LHRQgwHuKv3h8",
      "include_colab_link": true
    },
    "kernelspec": {
      "name": "python3",
      "display_name": "Python 3"
    }
  },
  "cells": [
    {
      "cell_type": "markdown",
      "metadata": {
        "id": "view-in-github",
        "colab_type": "text"
      },
      "source": [
        "<a href=\"https://colab.research.google.com/github/savpatpanda/protein/blob/master/notebook.ipynb\" target=\"_parent\"><img src=\"https://colab.research.google.com/assets/colab-badge.svg\" alt=\"Open In Colab\"/></a>"
      ]
    },
    {
      "cell_type": "code",
      "metadata": {
        "id": "4sMdNF-LEeMh",
        "outputId": "e624468d-3a37-4656-e10c-fd573a4a5e18",
        "colab": {
          "base_uri": "https://localhost:8080/",
          "height": 854
        }
      },
      "source": [
        "!git clone https://github.com/savpatpanda/protein.git\n",
        "%cd protein\n",
        "!ls \n",
        "!pip3 install -r requirements.txt\n",
        "# to push to GitHub, File > Save a copy in GitHub"
      ],
      "execution_count": 1,
      "outputs": [
        {
          "output_type": "stream",
          "text": [
            "Cloning into 'protein'...\n",
            "remote: Enumerating objects: 48, done.\u001b[K\n",
            "remote: Counting objects: 100% (48/48), done.\u001b[K\n",
            "remote: Compressing objects: 100% (40/40), done.\u001b[K\n",
            "remote: Total 48 (delta 21), reused 27 (delta 8), pack-reused 0\u001b[K\n",
            "Unpacking objects: 100% (48/48), done.\n",
            "/content/protein\n",
            "data  notebook.ipynb  plotting.py  proteinModel.py  requirements.txt\n",
            "Requirement already satisfied: certifi==2020.6.20 in /usr/local/lib/python3.6/dist-packages (from -r requirements.txt (line 1)) (2020.6.20)\n",
            "Requirement already satisfied: cycler==0.10.0 in /usr/local/lib/python3.6/dist-packages (from -r requirements.txt (line 2)) (0.10.0)\n",
            "Collecting gemmi==0.4.2\n",
            "\u001b[?25l  Downloading https://files.pythonhosted.org/packages/da/6a/fe1a65806633ea2129507b0f8b4034afdbf383e474a12152839ee50a52eb/gemmi-0.4.2-cp36-cp36m-manylinux2010_x86_64.whl (1.8MB)\n",
            "\u001b[K     |████████████████████████████████| 1.8MB 6.2MB/s \n",
            "\u001b[?25hRequirement already satisfied: kiwisolver==1.2.0 in /usr/local/lib/python3.6/dist-packages (from -r requirements.txt (line 4)) (1.2.0)\n",
            "Collecting matplotlib==3.3.2\n",
            "\u001b[?25l  Downloading https://files.pythonhosted.org/packages/cd/d6/8c4dfb23151d5a494c66ebbfdb5c8c433b44ec07fae52da5939fcda0943f/matplotlib-3.3.2-cp36-cp36m-manylinux1_x86_64.whl (11.6MB)\n",
            "\u001b[K     |████████████████████████████████| 11.6MB 3.2MB/s \n",
            "\u001b[?25hCollecting numpy==1.19.2\n",
            "\u001b[?25l  Downloading https://files.pythonhosted.org/packages/63/97/af8a92864a04bfa48f1b5c9b1f8bf2ccb2847f24530026f26dd223de4ca0/numpy-1.19.2-cp36-cp36m-manylinux2010_x86_64.whl (14.5MB)\n",
            "\u001b[K     |████████████████████████████████| 14.5MB 301kB/s \n",
            "\u001b[?25hCollecting Pillow==8.0.0\n",
            "\u001b[?25l  Downloading https://files.pythonhosted.org/packages/a6/9c/829c74f7f7f129616dfb6f75afd72529f895d29db71c7aeb46b02fcfb26d/Pillow-8.0.0-cp36-cp36m-manylinux1_x86_64.whl (2.2MB)\n",
            "\u001b[K     |████████████████████████████████| 2.2MB 43.8MB/s \n",
            "\u001b[?25hCollecting pybind11==2.5.0\n",
            "\u001b[?25l  Downloading https://files.pythonhosted.org/packages/89/e3/d576f6f02bc75bacbc3d42494e8f1d063c95617d86648dba243c2cb3963e/pybind11-2.5.0-py2.py3-none-any.whl (296kB)\n",
            "\u001b[K     |████████████████████████████████| 296kB 50.0MB/s \n",
            "\u001b[?25hRequirement already satisfied: pyparsing==2.4.7 in /usr/local/lib/python3.6/dist-packages (from -r requirements.txt (line 9)) (2.4.7)\n",
            "Requirement already satisfied: python-dateutil==2.8.1 in /usr/local/lib/python3.6/dist-packages (from -r requirements.txt (line 10)) (2.8.1)\n",
            "Requirement already satisfied: six==1.15.0 in /usr/local/lib/python3.6/dist-packages (from -r requirements.txt (line 11)) (1.15.0)\n",
            "\u001b[31mERROR: tensorflow 2.3.0 has requirement numpy<1.19.0,>=1.16.0, but you'll have numpy 1.19.2 which is incompatible.\u001b[0m\n",
            "\u001b[31mERROR: datascience 0.10.6 has requirement folium==0.2.1, but you'll have folium 0.8.3 which is incompatible.\u001b[0m\n",
            "\u001b[31mERROR: albumentations 0.1.12 has requirement imgaug<0.2.7,>=0.2.5, but you'll have imgaug 0.2.9 which is incompatible.\u001b[0m\n",
            "Installing collected packages: pybind11, gemmi, numpy, Pillow, matplotlib\n",
            "  Found existing installation: numpy 1.18.5\n",
            "    Uninstalling numpy-1.18.5:\n",
            "      Successfully uninstalled numpy-1.18.5\n",
            "  Found existing installation: Pillow 7.0.0\n",
            "    Uninstalling Pillow-7.0.0:\n",
            "      Successfully uninstalled Pillow-7.0.0\n",
            "  Found existing installation: matplotlib 3.2.2\n",
            "    Uninstalling matplotlib-3.2.2:\n",
            "      Successfully uninstalled matplotlib-3.2.2\n",
            "Successfully installed Pillow-8.0.0 gemmi-0.4.2 matplotlib-3.3.2 numpy-1.19.2 pybind11-2.5.0\n"
          ],
          "name": "stdout"
        },
        {
          "output_type": "display_data",
          "data": {
            "application/vnd.colab-display-data+json": {
              "pip_warning": {
                "packages": [
                  "PIL",
                  "matplotlib",
                  "mpl_toolkits",
                  "numpy"
                ]
              }
            }
          },
          "metadata": {
            "tags": []
          }
        }
      ]
    },
    {
      "cell_type": "code",
      "metadata": {
        "id": "eDFXT7yWvJD9",
        "outputId": "5dd02c63-a656-4d17-f576-2ab20504cf44",
        "colab": {
          "base_uri": "https://localhost:8080/",
          "height": 1000
        }
      },
      "source": [
        "from gemmi import cif \n",
        "\n",
        "try:\n",
        "  doc = cif.read_file(\"./data/185472.cif\")\n",
        "  block = doc.sole_block()\n",
        "  for item in block:\n",
        "    if item.pair: pass#print(item.pair)\n",
        "    if item.loop: \n",
        "      loop = item.loop\n",
        "      for i in loop.tags:\n",
        "        print(i)\n",
        "        print(list(block.find_loop(i)))\n",
        "      print()\n",
        "except Exception as e:\n",
        "  print(e)"
      ],
      "execution_count": 26,
      "outputs": [
        {
          "output_type": "stream",
          "text": [
            "_citation_id\n",
            "['1']\n",
            "_citation_doi\n",
            "['10.1039/b203379h']\n",
            "_citation_year\n",
            "['2003']\n",
            "\n",
            "_atom_type_symbol\n",
            "['C', 'H', 'O']\n",
            "_atom_type_description\n",
            "['C', 'H', 'O']\n",
            "_atom_type_scat_length_neutron\n",
            "['6.646', '-3.739', '5.803']\n",
            "_atom_type_scat_source\n",
            "[\"'International Tables Vol C Table 4.4.4.1'\", \"'International Tables Vol C Table 4.4.4.1'\", \"'International Tables Vol C Table 4.4.4.1'\"]\n",
            "\n",
            "_symmetry_equiv_pos_as_xyz\n",
            "[\"'x, y, z'\", \"'-x, y+1/2, -z+1/2'\", \"'-x, -y, -z'\", \"'x, -y-1/2, z-1/2'\"]\n",
            "\n",
            "_atom_site_label\n",
            "['C1', 'C2', 'C3', 'C4', 'C5', 'C6', 'C7', 'C8', 'C9', 'O1', 'O2', 'O3', 'O4', 'H1', 'H2', 'H3', 'H4', 'H5', 'H6', 'H7', 'H8']\n",
            "_atom_site_type_symbol\n",
            "['C', 'C', 'C', 'C', 'C', 'C', 'C', 'C', 'C', 'O', 'O', 'O', 'O', 'H', 'H', 'H', 'H', 'H', 'H', 'H', 'H']\n",
            "_atom_site_fract_x\n",
            "['0.1537(4)', '0.2473(4)', '0.2998(4)', '0.2609(4)', '0.1686(4)', '0.1158(4)', '0.0903(4)', '0.3674(4)', '0.3993(5)', '0.1235(5)', '0.0098(6)', '0.2886(5)', '0.4029(6)', '0.3698(11)', '0.3016(12)', '0.1406(11)', '0.0433(10)', '0.4618(18)', '0.3200(16)', '0.434(3)', '0.0713(10)']\n",
            "_atom_site_fract_y\n",
            "['0.5603(6)', '0.4838(6)', '0.2977(7)', '0.1876(7)', '0.2620(7)', '0.4463(7)', '0.7562(7)', '0.7373(7)', '0.8399(9)', '0.8590(10)', '0.8130(9)', '0.5827(8)', '0.7815(11)', '0.2377(19)', '0.0396(16)', '0.174(2)', '0.507(2)', '0.960(3)', '0.897(5)', '0.735(4)', '0.9855(18)']\n",
            "_atom_site_fract_z\n",
            "['0.0665(6)', '0.0088(5)', '0.0414(7)', '0.1352(7)', '0.1942(7)', '0.1614(6)', '0.0372(5)', '-0.0623(6)', '-0.1740(7)', '-0.0527(9)', '0.0966(8)', '-0.0890(7)', '0.0367(8)', '-0.0095(17)', '0.1593(16)', '0.2688(19)', '0.2083(16)', '-0.145(3)', '-0.224(3)', '-0.240(3)', '-0.0642(15)']\n",
            "_atom_site_U_iso_or_equiv\n",
            "['0.0115(9)', '0.0118(10)', '0.0174(12)', '0.0199(12)', '0.0174(12)', '0.0158(11)', '0.0113(9)', '0.0137(10)', '0.0214(12)', '0.0201(15)', '0.0205(13)', '0.0136(11)', '0.0248(16)', '0.035(3)', '0.033(3)', '0.040(4)', '0.031(3)', '0.059(6)', '0.088(12)', '0.072(7)', '0.030(3)']\n",
            "_atom_site_adp_type\n",
            "['Uani', 'Uani', 'Uani', 'Uani', 'Uani', 'Uani', 'Uani', 'Uani', 'Uani', 'Uani', 'Uani', 'Uani', 'Uani', 'Uani', 'Uani', 'Uani', 'Uani', 'Uani', 'Uani', 'Uani', 'Uani']\n",
            "_atom_site_occupancy\n",
            "['1', '1', '1', '1', '1', '1', '1', '1', '1', '1', '1', '1', '1', '1', '1', '1', '1', '1', '1', '1', '1']\n",
            "_atom_site_symmetry_multiplicity\n",
            "['1', '1', '1', '1', '1', '1', '1', '1', '1', '1', '1', '1', '1', '1', '1', '1', '1', '1', '1', '1', '1']\n",
            "_atom_site_calc_flag\n",
            "['d', 'd', 'd', 'd', 'd', 'd', 'd', 'd', 'd', 'd', 'd', 'd', 'd', 'd', 'd', 'd', 'd', 'd', 'd', 'd', 'd']\n",
            "_atom_site_refinement_flags\n",
            "['.', '.', '.', '.', '.', '.', '.', '.', '.', '.', '.', '.', '.', '.', '.', '.', '.', '.', '.', '.', '.']\n",
            "_atom_site_disorder_assembly\n",
            "['.', '.', '.', '.', '.', '.', '.', '.', '.', '.', '.', '.', '.', '.', '.', '.', '.', '.', '.', '.', '.']\n",
            "_atom_site_disorder_group\n",
            "['.', '.', '.', '.', '.', '.', '.', '.', '.', '.', '.', '.', '.', '.', '.', '.', '.', '.', '.', '.', '.']\n",
            "\n",
            "_atom_site_aniso_label\n",
            "['C1', 'C2', 'C3', 'C4', 'C5', 'C6', 'C7', 'C8', 'C9', 'O1', 'O2', 'O3', 'O4', 'H1', 'H2', 'H3', 'H4', 'H5', 'H6', 'H7', 'H8']\n",
            "_atom_site_aniso_U_11\n",
            "['0.0116(13)', '0.0125(14)', '0.0186(17)', '0.0183(18)', '0.0132(15)', '0.0143(15)', '0.0127(14)', '0.0103(13)', '0.023(2)', '0.0166(19)', '0.025(2)', '0.0163(18)', '0.027(3)', '0.033(5)', '0.047(6)', '0.028(5)', '0.027(4)', '0.062(9)', '0.040(8)', '0.13(2)', '0.031(4)']\n",
            "_atom_site_aniso_U_22\n",
            "['0.0103(15)', '0.0133(17)', '0.0144(19)', '0.0138(19)', '0.0177(19)', '0.0155(18)', '0.0126(18)', '0.0199(19)', '0.029(3)', '0.022(2)', '0.018(2)', '0.014(2)', '0.032(3)', '0.031(6)', '0.018(4)', '0.041(6)', '0.039(6)', '0.054(10)', '0.115(18)', '0.072(14)', '0.030(5)']\n",
            "_atom_site_aniso_U_33\n",
            "['0.013(3)', '0.010(3)', '0.020(4)', '0.028(4)', '0.022(4)', '0.018(3)', '0.009(3)', '0.012(3)', '0.013(4)', '0.023(5)', '0.021(4)', '0.011(3)', '0.015(5)', '0.040(10)', '0.036(10)', '0.052(12)', '0.028(9)', '0.063(19)', '0.10(3)', '0.024(15)', '0.031(9)']\n",
            "_atom_site_aniso_U_23\n",
            "['0.0003(14)', '-0.0038(14)', '-0.0003(18)', '0.0034(19)', '0.0047(19)', '0.0037(17)', '0.0005(15)', '-0.0024(17)', '0.003(2)', '0.008(2)', '0.006(2)', '-0.0052(18)', '-0.007(3)', '0.001(5)', '0.009(4)', '0.030(7)', '0.006(5)', '-0.002(9)', '0.081(19)', '-0.007(9)', '0.009(5)']\n",
            "_atom_site_aniso_U_13\n",
            "['0.0039(19)', '0.0035(19)', '0.007(2)', '0.006(2)', '0.006(2)', '0.005(2)', '0.0044(17)', '0.0050(18)', '0.006(3)', '0.006(3)', '0.012(3)', '0.002(2)', '0.006(3)', '0.005(6)', '0.010(7)', '0.009(7)', '0.009(6)', '0.017(12)', '-0.030(12)', '0.045(15)', '0.009(6)']\n",
            "_atom_site_aniso_U_12\n",
            "['0.0000(11)', '0.0000(11)', '0.0048(13)', '0.0039(13)', '0.0016(13)', '0.0013(13)', '0.0025(11)', '-0.0027(12)', '-0.0061(17)', '0.0058(16)', '0.0093(17)', '-0.0008(14)', '-0.013(2)', '0.010(4)', '0.011(4)', '0.007(4)', '0.004(4)', '-0.026(7)', '-0.016(9)', '-0.004(12)', '0.009(4)']\n",
            "\n",
            "_geom_bond_atom_site_label_1\n",
            "['C1', 'C1', 'C1', 'C2', 'C2', 'C3', 'C3', 'C4', 'C4', 'C5', 'C5', 'C6', 'C7', 'C7', 'C8', 'C8', 'C8', 'C9', 'C9', 'C9', 'O1']\n",
            "_geom_bond_atom_site_label_2\n",
            "['C2', 'C6', 'C7', 'C3', 'O3', 'C4', 'H1', 'C5', 'H2', 'C6', 'H3', 'H4', 'O2', 'O1', 'O4', 'O3', 'C9', 'H5', 'H6', 'H7', 'H8']\n",
            "_geom_bond_distance\n",
            "['1.385(7)', '1.402(9)', '1.487(6)', '1.386(6)', '1.394(10)', '1.384(10)', '1.091(16)', '1.376(9)', '1.093(11)', '1.377(7)', '1.091(17)', '1.089(16)', '1.235(9)', '1.299(10)', '1.177(11)', '1.358(7)', '1.499(10)', '1.083(18)', '1.069(17)', '1.11(3)', '1.016(12)']\n",
            "_geom_bond_site_symmetry_2\n",
            "['.', '.', '.', '.', '.', '.', '.', '.', '.', '.', '.', '.', '.', '.', '.', '.', '.', '.', '.', '.', '.']\n",
            "_geom_bond_publ_flag\n",
            "['?', '?', '?', '?', '?', '?', '?', '?', '?', '?', '?', '?', '?', '?', '?', '?', '?', '?', '?', '?', '?']\n",
            "\n",
            "_geom_angle_atom_site_label_1\n",
            "['C2', 'C2', 'C6', 'C1', 'C1', 'C3', 'C4', 'C4', 'C2', 'C5', 'C5', 'C3', 'C4', 'C4', 'C6', 'C5', 'C5', 'C1', 'O2', 'O2', 'O1', 'O4', 'O4', 'O3', 'C8', 'C8', 'H5', 'C8', 'H5', 'H6', 'C7', 'C8']\n",
            "_geom_angle_atom_site_label_2\n",
            "['C1', 'C1', 'C1', 'C2', 'C2', 'C2', 'C3', 'C3', 'C3', 'C4', 'C4', 'C4', 'C5', 'C5', 'C5', 'C6', 'C6', 'C6', 'C7', 'C7', 'C7', 'C8', 'C8', 'C8', 'C9', 'C9', 'C9', 'C9', 'C9', 'C9', 'O1', 'O3']\n",
            "_geom_angle_atom_site_label_3\n",
            "['C6', 'C7', 'C7', 'C3', 'O3', 'O3', 'C2', 'H1', 'H1', 'C3', 'H2', 'H2', 'C6', 'H3', 'H3', 'C1', 'H4', 'H4', 'O1', 'C1', 'C1', 'O3', 'C9', 'C9', 'H5', 'H6', 'H6', 'H7', 'H7', 'H7', 'H8', 'C2']\n",
            "_geom_angle\n",
            "['117.9(4)', '125.3(5)', '116.8(4)', '121.1(5)', '122.1(5)', '116.7(5)', '120.0(5)', '120.8(9)', '119.2(10)', '119.7(5)', '120.7(11)', '119.6(10)', '120.4(6)', '118.2(9)', '121.3(9)', '120.9(5)', '120.8(9)', '118.3(8)', '123.3(5)', '120.0(5)', '116.7(5)', '122.8(7)', '126.4(6)', '110.8(6)', '105.8(16)', '109.5(15)', '113(2)', '114.4(15)', '113(2)', '101(3)', '108.2(11)', '115.7(6)']\n",
            "_geom_angle_site_symmetry_1\n",
            "['.', '.', '.', '.', '.', '.', '.', '.', '.', '.', '.', '.', '.', '.', '.', '.', '.', '.', '.', '.', '.', '.', '.', '.', '.', '.', '.', '.', '.', '.', '.', '.']\n",
            "_geom_angle_site_symmetry_3\n",
            "['.', '.', '.', '.', '.', '.', '.', '.', '.', '.', '.', '.', '.', '.', '.', '.', '.', '.', '.', '.', '.', '.', '.', '.', '.', '.', '.', '.', '.', '.', '.', '.']\n",
            "_geom_angle_publ_flag\n",
            "['?', '?', '?', '?', '?', '?', '?', '?', '?', '?', '?', '?', '?', '?', '?', '?', '?', '?', '?', '?', '?', '?', '?', '?', '?', '?', '?', '?', '?', '?', '?', '?']\n",
            "\n"
          ],
          "name": "stdout"
        }
      ]
    },
    {
      "cell_type": "code",
      "metadata": {
        "id": "CN4b5ZKiwd-M"
      },
      "source": [
        ""
      ],
      "execution_count": null,
      "outputs": []
    }
  ]
}