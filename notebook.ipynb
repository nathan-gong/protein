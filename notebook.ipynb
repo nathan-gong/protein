{
  "nbformat": 4,
  "nbformat_minor": 0,
  "metadata": {
    "colab": {
      "name": "Untitled1.ipynb",
      "provenance": [],
      "authorship_tag": "ABX9TyPYb09aYy+l7+ZHW8cLK4rw",
      "include_colab_link": true
    },
    "kernelspec": {
      "name": "python3",
      "display_name": "Python 3"
    }
  },
  "cells": [
    {
      "cell_type": "markdown",
      "metadata": {
        "id": "view-in-github",
        "colab_type": "text"
      },
      "source": [
        "<a href=\"https://colab.research.google.com/github/savpatpanda/protein/blob/master/notebook.ipynb\" target=\"_parent\"><img src=\"https://colab.research.google.com/assets/colab-badge.svg\" alt=\"Open In Colab\"/></a>"
      ]
    },
    {
      "cell_type": "code",
      "metadata": {
        "id": "4sMdNF-LEeMh"
      },
      "source": [
        "!git clone https://github.com/savpatpanda/protein.git\n",
        "%cd protein\n",
        "!ls \n",
        "!pip3 install -r requirements.txt\n",
        "# to push to GitHub, File > Save a copy in GitHub"
      ],
      "execution_count": null,
      "outputs": []
    },
    {
      "cell_type": "code",
      "metadata": {
        "id": "eDFXT7yWvJD9"
      },
      "source": [
        "from gemmi import cif \n",
        "\n",
        "try:\n",
        "  doc = cif.read_file(\"./data/185472.cif\")\n",
        "  block = doc.sole_block()\n",
        "  print(block)\n",
        "except Exception as e:\n",
        "  print(e)"
      ],
      "execution_count": null,
      "outputs": []
    },
    {
      "cell_type": "code",
      "metadata": {
        "id": "CN4b5ZKiwd-M"
      },
      "source": [
        ""
      ],
      "execution_count": null,
      "outputs": []
    }
  ]
}