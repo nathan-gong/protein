{
  "nbformat": 4,
  "nbformat_minor": 0,
  "metadata": {
    "colab": {
      "name": "Untitled1.ipynb",
      "provenance": [],
      "include_colab_link": true
    },
    "kernelspec": {
      "name": "python3",
      "display_name": "Python 3"
    }
  },
  "cells": [
    {
      "cell_type": "markdown",
      "metadata": {
        "id": "view-in-github",
        "colab_type": "text"
      },
      "source": [
        "<a href=\"https://colab.research.google.com/github/savpatpanda/protein/blob/master/notebook.ipynb\" target=\"_parent\"><img src=\"https://colab.research.google.com/assets/colab-badge.svg\" alt=\"Open In Colab\"/></a>"
      ]
    },
    {
      "cell_type": "markdown",
      "metadata": {
        "id": "-FjaSjvhab8c"
      },
      "source": [
        "#Setup"
      ]
    },
    {
      "cell_type": "code",
      "metadata": {
        "id": "4sMdNF-LEeMh"
      },
      "source": [
        "!git clone https://github.com/savpatpanda/protein.git\n",
        "%cd protein\n",
        "!ls \n",
        "!pip3 install -r requirements.txt\n",
        "# to push to GitHub, File > Save a copy in GitHub"
      ],
      "execution_count": null,
      "outputs": []
    },
    {
      "cell_type": "markdown",
      "metadata": {
        "id": "rwlEaqfNavan"
      },
      "source": [
        "#Parsing\n"
      ]
    },
    {
      "cell_type": "code",
      "metadata": {
        "id": "ZheP-K366Qif"
      },
      "source": [
        "import numpy as np\n",
        "from plotting import plotSpheres\n",
        "def getFractionalToCartesianRotationMatrix(a, b, c, alpha, beta, gamma):\n",
        "  alpha = alpha*np.pi/180\n",
        "  beta  = beta*np.pi/180\n",
        "  gamma  = gamma*np.pi/180\n",
        "\n",
        "  n2 = (np.cos(alpha) - np.cos(gamma) * np.cos(beta)) / np.sin(gamma)\n",
        "  M  = np.array([ [a,0,0],\n",
        "                  [b*np.cos(gamma),b*np.sin(gamma),0], \n",
        "                  [c*np.cos(beta), c*n2, c*np.sqrt(np.sin(beta)**2-n2**2)]\n",
        "                 ])\n",
        "  return M\n"
      ],
      "execution_count": null,
      "outputs": []
    },
    {
      "cell_type": "code",
      "metadata": {
        "id": "xwdokJtu1Q83"
      },
      "source": [
        "import pandas as pd\n",
        "\n",
        "def getResidues(pdbFile:str):\n",
        "  pdb = open(pdbFile)\n",
        "  data = [] ##residueCode, residueNumber, x, y, z, atomType - 2,5,6,7,8, 11\n",
        "  positions = [2,5,6,7,8]\n",
        "\n",
        "  for line in pdb:\n",
        "      maxSubLength = len(\"ATOM    179  O   LYS A  22       7.513 -14.365  20.571\")\n",
        "      elements = line[:maxSubLength].split()\n",
        "      if elements[0] == \"ATOM\" and elements[2] not in [\"CA\", \"N\", \"O\", \"C\"]:\n",
        "          if len(elements) < 9:\n",
        "            left = elements[2][:3]\n",
        "            right = elements[2][3:]\n",
        "            elements[2] = left\n",
        "            elements.insert(3,right)\n",
        "\n",
        "          item = []\n",
        "          for i in positions:\n",
        "            if i == 5:\n",
        "              item.append(int(elements[i]))\n",
        "            elif i in [6,7,8]:\n",
        "              item.append(float(elements[i]))\n",
        "            else:\n",
        "              item.append(elements[i])\n",
        "          item.append(line[-4])\n",
        "            \n",
        "          data.append(item)\n",
        "\n",
        "  df = pd.DataFrame(data = data, columns = [\"residueCode\", \"residueNumber\", \"x\", \"y\", \"z\", \"atomType\"])\n",
        "  df = df.groupby(by = ['residueNumber'])\n",
        "\n",
        "  residues = []\n",
        "  allProteinAtoms = []\n",
        "  for key, item in df:\n",
        "      atoms = []\n",
        "      atomDf = df.get_group(key)\n",
        "      for index, row in atomDf.iterrows():\n",
        "        atoms.append(Atom(row[\"x\"], row[\"y\"], row[\"z\"], row[\"atomType\"], row[\"residueCode\"], charge = 0))\n",
        "      residues.append(Residue(atoms, atomDf[\"x\"].mean(), atomDf[\"y\"].mean(), atomDf[\"z\"].mean()))\n",
        "      allProteinAtoms.extend(atoms)\n",
        "  return allProteinAtoms, residues"
      ],
      "execution_count": null,
      "outputs": []
    },
    {
      "cell_type": "code",
      "metadata": {
        "id": "eDFXT7yWvJD9"
      },
      "source": [
        "from gemmi import cif \n",
        "%matplotlib inline\n",
        "import matplotlib.pyplot as plt\n",
        "\n",
        "parseCIFNum = lambda num: float(num[:-4] if num[-1] == ')' else num)\n",
        "\n",
        "def parseCIFFile(cifFileName):\n",
        "  doc = cif.read_file(\"./data/185472.cif\")\n",
        "  block = doc.sole_block()    \n",
        "  fractionalSpace = [ block.find_pair(\"_cell_length_a\"),\n",
        "                      block.find_pair(\"_cell_length_b\"),\n",
        "                      block.find_pair(\"_cell_length_c\"),\n",
        "                      block.find_pair(\"_cell_angle_alpha\"),\n",
        "                      block.find_pair(\"_cell_angle_beta\"),\n",
        "                      block.find_pair(\"_cell_angle_gamma\") ]\n",
        "\n",
        "  fractionalSpace = map(lambda x: parseCIFNum(x[1]), fractionalSpace)\n",
        "  rotationMatrix = getFractionalToCartesianRotationMatrix(*fractionalSpace)\n",
        "  \n",
        "  x = [parseCIFNum(x) for x in list(block.find_loop(\"_atom_site_fract_x\"))]\n",
        "  y = [parseCIFNum(x) for x in list(block.find_loop(\"_atom_site_fract_y\"))]\n",
        "  z = [parseCIFNum(x) for x in list(block.find_loop(\"_atom_site_fract_z\"))]\n",
        "  coords = np.array(list(zip(x,y,z)))\n",
        "\n",
        "  return coords, rotationMatrix\n",
        "  \n",
        "try:\n",
        "  coords, rotationMatrix = parseCIFFile(\"./data/185472.cif\")\n",
        "  cartesian = np.matmul(coords, rotationMatrix)\n",
        "  fig = plt.figure()\n",
        "  ax = fig.add_subplot(111, projection='3d')\n",
        "  print(cartesian)\n",
        "  plotSpheres(cartesian*30, ax)\n",
        "  plt.show()\n",
        "  \n",
        "except Exception as e:\n",
        "  print(e)"
      ],
      "execution_count": null,
      "outputs": []
    },
    {
      "cell_type": "markdown",
      "metadata": {
        "id": "1ur72Ecqa33B"
      },
      "source": [
        "# Data Structures"
      ]
    },
    {
      "cell_type": "code",
      "metadata": {
        "id": "arev8Ltl2QYN"
      },
      "source": [
        "class Residue():\n",
        "  def __init__ (self, atoms, meanX, meanY, meanZ):\n",
        "    self.atoms = atoms\n",
        "    self.position = (meanX, meanY, meanZ)\n",
        "\n",
        "\n",
        "class Atom():\n",
        "  def __init__(self, x, y, z, atomType, residueComponents = None, charge = 0):\n",
        "    self.position = (x,y,z)\n",
        "    self.atomType = atomType\n",
        "    self.residueComponents = residueComponents\n",
        "    self.charge = charge\n",
        "    \n",
        "  def __repr__(self):\n",
        "    return f\"{self.atomType} at {self.position}\"\n",
        "\n",
        "class Compound():\n",
        "  def __init__(self, atoms):\n",
        "    self.atoms = atoms\n",
        "    self.positions = [a.position for a in self.atoms]\n",
        "    separated = list(zip(*self.positions))\n",
        "    self.mean = list(map(lambda s: np.array(s).mean(), separated))\n",
        "\n",
        "  def translate(self, dx, dy, dz):\n",
        "    return list(map(lambda p: (p[0]+dx,p[1]+dy,p[2]+dz), self.positions))\n",
        "\n",
        "def plotAtoms(ax, atoms: list, color: str, radius: float):\n",
        "  plotSpheres(atoms, ax, radius = radius, color = color)"
      ],
      "execution_count": null,
      "outputs": []
    },
    {
      "cell_type": "code",
      "metadata": {
        "id": "Pzt62sYo8aCi"
      },
      "source": [
        "coords, rotationMatrix = parseCIFFile(\"./data/185472.cif\")\n",
        "atoms, residues = getResidues('data/1ikf.pdb')\n",
        "cartesian = np.matmul(coords, rotationMatrix)\n",
        "fig = plt.figure()\n",
        "fig.set_size_inches(10, 10)\n",
        "ax = fig.add_subplot(111, projection='3d')\n",
        "plotAtoms(ax, cartesian, color = \"green\", radius = 0.2)\n",
        "plt.show()\n",
        "fig = plt.figure()\n",
        "fig.set_size_inches(10, 10)\n",
        "ax = fig.add_subplot(111, projection='3d')\n",
        "plotAtoms(ax, [atom.position for atom in atoms], color = \"red\", radius = 0.2)\n"
      ],
      "execution_count": null,
      "outputs": []
    },
    {
      "cell_type": "code",
      "metadata": {
        "id": "NxCNAw2TtS7L"
      },
      "source": [
        "wellCoeff = {\n",
        "    \"C\" : 0.15, \n",
        "    \"N\" : 0.16,\n",
        "    \"O\" : 0.2,\n",
        "    \"S\" : 0.2,\n",
        "    \"H\" : 0.02,\n",
        "    \"P\" : 0.36758504\n",
        "} #kcal / mol\n",
        "\n",
        "atomicRadii = {\n",
        "    \"C\" : 70, \n",
        "    \"N\" : 65,\n",
        "    \"O\" : 60,\n",
        "    \"S\" : 100,\n",
        "    \"H\" : 25,\n",
        "    \"P\" : 98\n",
        "} #picometers\n",
        "\n",
        "def LJ(type1, type2, distance):\n",
        "  rij_min = (atomicRadii[type1] + atomicRadii[type2])/2\n",
        "  ljEnergy = math.sqrt(wellCoeff[type1]*wellCoeff[type2]) * ((rij_min/distance)**12 - 2*(rij_min/distance)**6)\n",
        "  return ljEnergy\n",
        "\n",
        "def electro(atom1, atom2, distance):\n",
        "  cutoffCharge = 1 \n",
        "  dielectric = 8.987551 * (10**9) / 80.1 #H20: https://chem.libretexts.org/Bookshelves/Analytical_Chemistry/Book%3A_Physical_Methods_in_Chemistry_and_Nano_Science_(Barron)/02%3A_Physical_and_Thermal_Analysis/2.09%3A_Electrical_Permittivity_Characterization_of_Aqueous_Solutions\n",
        "  if atom1.charge < cutoffCharge or atom2.charge < cutoffCharge:\n",
        "    return 0\n",
        "  else:\n",
        "    electroEnergy = (atom1.charge) * (atom2.charge) / (dielectric * distance)\n",
        "    return electroEnergy\n",
        "\n",
        "def potentialEnergy(proteinSet, compoundSet):\n",
        "  totalEnergy = 0\n",
        "  cutOffDistance = 1e9\n",
        "  for i in proteinSet:\n",
        "    for j in compoundSet:\n",
        "      distance = math.sqrt( (i.position[0] - j.position[0])**2 + (i.position[1] - j.position[1])**2 + (i.position[2] - j.position[2])**2)\n",
        "      if distance > cutOffDistance: #optional cutoff for particles too far away\n",
        "        continue\n",
        "      totalEnergy += (LJ(i.atomType, j.atomType, distance) + electro(i.atomType, j.atomType, distance))\n",
        "  return totalEnergy\n",
        "\n",
        "    "
      ],
      "execution_count": null,
      "outputs": []
    },
    {
      "cell_type": "code",
      "metadata": {
        "id": "_B7zWRip1zgh"
      },
      "source": [
        "from proteinModel import rotate, rotationMatrix\n",
        "from itertools import combinations\n",
        "\n",
        "%matplotlib inline\n",
        "\n",
        "def boundingBox(atoms):\n",
        "  minX, maxX = float('inf'), float('-inf')\n",
        "  minY, maxY = float('inf'), float('-inf')\n",
        "  minZ, maxZ = float('inf'), float('-inf')\n",
        "  for atom in atoms:\n",
        "    x,y,z = atom\n",
        "    minX, maxX = min(minX, x), max(maxX, x)\n",
        "    minY, maxY = min(minY, y), max(maxY, y)\n",
        "    minZ, maxZ = min(minZ, z), max(maxZ, z)\n",
        "  boundbox = []\n",
        "  for x in [minX, maxX]:\n",
        "    for y in [minY, maxY]:\n",
        "      for z in [minZ, maxZ]:\n",
        "        boundbox.append((x,y,z))\n",
        "  volume = (maxX - minX) * (maxY - minY) * (maxZ - minZ)\n",
        "  return boundbox, volume\n",
        "\n",
        "def findMinBoundingBox(atoms, getPosition, rotateX, rotateY, rotateZ):\n",
        "  deltas = range(0, 90, 5)\n",
        "  smallestVolume, smallestBoundingBox, opt = float('inf'), None, None\n",
        "  finalAtoms = None\n",
        "  for dx,dy,dz in combinations(deltas, 3):\n",
        "    vector = [getPosition(a) for a in atoms]\n",
        "    atomSet = rotate(vector, rotationMatrix(dx, dy, dz))\n",
        "    boundbox, volume = boundingBox(atomSet)\n",
        "    if volume < smallestVolume:\n",
        "      smallestVolume = volume\n",
        "      smallestBoundingBox = boundbox\n",
        "      opt = (dx, dy, dz)\n",
        "      finalAtoms = atomSet\n",
        "    \n",
        "  return smallestVolume, smallestBoundingBox, opt, finalAtoms\n",
        "\n",
        "def testBoundingBox():\n",
        "  atoms, residues = getResidues('data/1ikf.pdb')\n",
        "  _, bb, _, finalAtoms = findMinBoundingBox(atoms, lambda x : x.position, 30, 0, 0)\n",
        "  fig = plt.figure()\n",
        "  fig.set_size_inches(10, 10)\n",
        "  ax = fig.add_subplot(111, projection='3d')\n",
        "  plotAtoms(ax, finalAtoms, color = \"green\", radius = 0.2)\n",
        "  plotAtoms(ax, bb, color = \"red\", radius = 0.3)\n",
        "  plt.show()"
      ],
      "execution_count": null,
      "outputs": []
    },
    {
      "cell_type": "markdown",
      "metadata": {
        "id": "2IMCnNe8Dy_g"
      },
      "source": [
        "# Optimization Ideas\n",
        "- Gradient Search\n",
        "  - Bounding box optimization\n",
        "  - Translate, rotate, translate\n",
        "  - Informed search using important residues (e.g Euclidean distances)\n",
        "  - How to descend:\n",
        "    - PyTorch autograd. The idea is to convert our energy functions into matrix operations that take a central position of the compound, and use our resultant energy as loss. We can then use gradients from these computations to nudge our central position in the correct direction.\n",
        "    - Beam search - from an initial position, compute different directions to translate and their resultant energies, and pick the locally optimal one, continue until you find the min.\n",
        "- Residue / Active site pockets\n",
        "    - Move the chemical compound along the normal of the plane in the pocket.\n"
      ]
    },
    {
      "cell_type": "code",
      "metadata": {
        "id": "kTr1hKClK_tI"
      },
      "source": [
        "import torch\n",
        "#https://pytorch.org/tutorials/beginner/pytorch_with_examples.html\n",
        "dtype = torch.float\n",
        "device = torch.device(\"cpu\")\n",
        "epochs = 1000\n",
        "learning_rate = 1e-3\n",
        "# device = torch.device(\"cuda:0\") # Uncomment this to run on GPU\n",
        "\n",
        "# Create random Tensors for weights.\n",
        "# Setting requires_grad=True indicates that we want to compute gradients with\n",
        "# respect to these Tensors during the backward pass.\n",
        "w1 = torch.randn(1, 3, device=device, dtype=dtype, requires_grad=True)\n",
        "print(w1)\n",
        "\n",
        "for t in range(epochs + 1):\n",
        "    # Forward pass: compute predicted y using operations on Tensors; these\n",
        "    # are exactly the same operations we used to compute the forward pass using\n",
        "    # Tensors, but we do not need to keep references to intermediate values since\n",
        "    # we are not implementing the backward pass by hand.\n",
        "    '''\n",
        "    Question: Is it possible to create these operations with matrix manipulation --\n",
        "    w1 -> translated compound\n",
        "    translated compound -> LJ \n",
        "    translated compound -> Electric Energies\n",
        "    '''\n",
        "    y_pred = w1 * torch.ones(3)\n",
        "\n",
        "    # Compute and print loss using operations on Tensors.\n",
        "    # Now loss is a Tensor of shape (1,)\n",
        "    # loss.item() gets the scalar value held in the loss.\n",
        "    loss = (y_pred - torch.tensor([5,5,5])).pow(2).sum()\n",
        "    print(t, loss.item())\n",
        "\n",
        "    # Use autograd to compute the backward pass. This call will compute the\n",
        "    # gradient of loss with respect to all Tensors with requires_grad=True.\n",
        "    # After this call w1.grad and w2.grad will be Tensors holding the gradient\n",
        "    # of the loss with respect to w1 and w2 respectively.\n",
        "    loss.backward()\n",
        "\n",
        "    # Manually update weights using gradient descent. Wrap in torch.no_grad()\n",
        "    # because weights have requires_grad=True, but we don't need to track this\n",
        "    # in autograd.\n",
        "    # An alternative way is to operate on weight.data and weight.grad.data.\n",
        "    # Recall that tensor.data gives a tensor that shares the storage with\n",
        "    # tensor, but doesn't track history.\n",
        "    # You can also use torch.optim.SGD to achieve this.\n",
        "    with torch.no_grad():\n",
        "        w1 -= learning_rate * w1.grad\n",
        "\n",
        "        # Manually zero the gradients after updating weights\n",
        "        w1.grad.zero_()\n",
        "print(w1)  \n"
      ],
      "execution_count": null,
      "outputs": []
    }
  ]
}