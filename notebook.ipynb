{
  "nbformat": 4,
  "nbformat_minor": 0,
  "metadata": {
    "colab": {
      "name": "Untitled1.ipynb",
      "provenance": [],
      "include_colab_link": true
    },
    "kernelspec": {
      "name": "python3",
      "display_name": "Python 3"
    }
  },
  "cells": [
    {
      "cell_type": "markdown",
      "metadata": {
        "id": "view-in-github",
        "colab_type": "text"
      },
      "source": [
        "<a href=\"https://colab.research.google.com/github/savpatpanda/protein/blob/master/notebook.ipynb\" target=\"_parent\"><img src=\"https://colab.research.google.com/assets/colab-badge.svg\" alt=\"Open In Colab\"/></a>"
      ]
    },
    {
      "cell_type": "code",
      "metadata": {
        "id": "4sMdNF-LEeMh",
        "outputId": "6903fe8b-889b-4844-a33d-f1ceb0244ee5",
        "colab": {
          "base_uri": "https://localhost:8080/",
          "height": 854
        }
      },
      "source": [
        "!git clone https://github.com/savpatpanda/protein.git\n",
        "%cd protein\n",
        "!ls \n",
        "!pip3 install -r requirements.txt\n",
        "# to push to GitHub, File > Save a copy in GitHub"
      ],
      "execution_count": 2,
      "outputs": [
        {
          "output_type": "stream",
          "text": [
            "Cloning into 'protein'...\n",
            "remote: Enumerating objects: 65, done.\u001b[K\n",
            "remote: Counting objects: 100% (65/65), done.\u001b[K\n",
            "remote: Compressing objects: 100% (55/55), done.\u001b[K\n",
            "remote: Total 65 (delta 29), reused 30 (delta 10), pack-reused 0\u001b[K\n",
            "Unpacking objects: 100% (65/65), done.\n",
            "/content/protein\n",
            "data  notebook.ipynb  plotting.py  proteinModel.py  requirements.txt\n",
            "Requirement already satisfied: certifi==2020.6.20 in /usr/local/lib/python3.6/dist-packages (from -r requirements.txt (line 1)) (2020.6.20)\n",
            "Requirement already satisfied: cycler==0.10.0 in /usr/local/lib/python3.6/dist-packages (from -r requirements.txt (line 2)) (0.10.0)\n",
            "Collecting gemmi==0.4.2\n",
            "\u001b[?25l  Downloading https://files.pythonhosted.org/packages/da/6a/fe1a65806633ea2129507b0f8b4034afdbf383e474a12152839ee50a52eb/gemmi-0.4.2-cp36-cp36m-manylinux2010_x86_64.whl (1.8MB)\n",
            "\u001b[K     |████████████████████████████████| 1.8MB 1.4MB/s \n",
            "\u001b[?25hRequirement already satisfied: kiwisolver==1.2.0 in /usr/local/lib/python3.6/dist-packages (from -r requirements.txt (line 4)) (1.2.0)\n",
            "Collecting matplotlib==3.3.2\n",
            "\u001b[?25l  Downloading https://files.pythonhosted.org/packages/cd/d6/8c4dfb23151d5a494c66ebbfdb5c8c433b44ec07fae52da5939fcda0943f/matplotlib-3.3.2-cp36-cp36m-manylinux1_x86_64.whl (11.6MB)\n",
            "\u001b[K     |████████████████████████████████| 11.6MB 357kB/s \n",
            "\u001b[?25hCollecting numpy==1.19.2\n",
            "\u001b[?25l  Downloading https://files.pythonhosted.org/packages/63/97/af8a92864a04bfa48f1b5c9b1f8bf2ccb2847f24530026f26dd223de4ca0/numpy-1.19.2-cp36-cp36m-manylinux2010_x86_64.whl (14.5MB)\n",
            "\u001b[K     |████████████████████████████████| 14.5MB 257kB/s \n",
            "\u001b[?25hCollecting Pillow==8.0.0\n",
            "\u001b[?25l  Downloading https://files.pythonhosted.org/packages/a6/9c/829c74f7f7f129616dfb6f75afd72529f895d29db71c7aeb46b02fcfb26d/Pillow-8.0.0-cp36-cp36m-manylinux1_x86_64.whl (2.2MB)\n",
            "\u001b[K     |████████████████████████████████| 2.2MB 43.4MB/s \n",
            "\u001b[?25hCollecting pybind11==2.5.0\n",
            "\u001b[?25l  Downloading https://files.pythonhosted.org/packages/89/e3/d576f6f02bc75bacbc3d42494e8f1d063c95617d86648dba243c2cb3963e/pybind11-2.5.0-py2.py3-none-any.whl (296kB)\n",
            "\u001b[K     |████████████████████████████████| 296kB 47.0MB/s \n",
            "\u001b[?25hRequirement already satisfied: pyparsing==2.4.7 in /usr/local/lib/python3.6/dist-packages (from -r requirements.txt (line 9)) (2.4.7)\n",
            "Requirement already satisfied: python-dateutil==2.8.1 in /usr/local/lib/python3.6/dist-packages (from -r requirements.txt (line 10)) (2.8.1)\n",
            "Requirement already satisfied: six==1.15.0 in /usr/local/lib/python3.6/dist-packages (from -r requirements.txt (line 11)) (1.15.0)\n",
            "\u001b[31mERROR: tensorflow 2.3.0 has requirement numpy<1.19.0,>=1.16.0, but you'll have numpy 1.19.2 which is incompatible.\u001b[0m\n",
            "\u001b[31mERROR: datascience 0.10.6 has requirement folium==0.2.1, but you'll have folium 0.8.3 which is incompatible.\u001b[0m\n",
            "\u001b[31mERROR: albumentations 0.1.12 has requirement imgaug<0.2.7,>=0.2.5, but you'll have imgaug 0.2.9 which is incompatible.\u001b[0m\n",
            "Installing collected packages: pybind11, gemmi, numpy, Pillow, matplotlib\n",
            "  Found existing installation: numpy 1.18.5\n",
            "    Uninstalling numpy-1.18.5:\n",
            "      Successfully uninstalled numpy-1.18.5\n",
            "  Found existing installation: Pillow 7.0.0\n",
            "    Uninstalling Pillow-7.0.0:\n",
            "      Successfully uninstalled Pillow-7.0.0\n",
            "  Found existing installation: matplotlib 3.2.2\n",
            "    Uninstalling matplotlib-3.2.2:\n",
            "      Successfully uninstalled matplotlib-3.2.2\n",
            "Successfully installed Pillow-8.0.0 gemmi-0.4.2 matplotlib-3.3.2 numpy-1.19.2 pybind11-2.5.0\n"
          ],
          "name": "stdout"
        },
        {
          "output_type": "display_data",
          "data": {
            "application/vnd.colab-display-data+json": {
              "pip_warning": {
                "packages": [
                  "PIL",
                  "matplotlib",
                  "mpl_toolkits",
                  "numpy"
                ]
              }
            }
          },
          "metadata": {
            "tags": []
          }
        }
      ]
    },
    {
      "cell_type": "code",
      "metadata": {
        "id": "ZheP-K366Qif"
      },
      "source": [
        "import numpy as np\n",
        "def getFractionalToCartesianRotationMatrix(a, b, c, alpha, beta, gamma):\n",
        "  alpha = alpha*np.pi/180\n",
        "  beta  = beta*np.pi/180\n",
        "  gamma  = gamma*np.pi/180\n",
        "\n",
        "  n2 = (np.cos(alpha) - np.cos(gamma) * np.cos(beta)) / np.sin(gamma)\n",
        "  M  = np.array([ [a,0,0],\n",
        "                  [b*np.cos(gamma),b*np.sin(gamma),0], \n",
        "                  [c*np.cos(beta), c*n2, c*np.sqrt(np.sin(beta)**2-n2**2)]\n",
        "                 ])\n",
        "  return M\n"
      ],
      "execution_count": null,
      "outputs": []
    },
    {
      "cell_type": "code",
      "metadata": {
        "id": "eDFXT7yWvJD9",
        "outputId": "ee33f06b-f072-472d-8422-89e6d83b7421",
        "colab": {
          "base_uri": "https://localhost:8080/",
          "height": 409
        }
      },
      "source": [
        "from gemmi import cif \n",
        "from plotting import plotSpheres\n",
        "import matplotlib.pyplot as plt\n",
        "\n",
        "parseCIFNum = lambda num: float(num[:-4] if num[-1] == ')' else num)\n",
        "\n",
        "def parseCIFFile(cifFileName):\n",
        "  doc = cif.read_file(\"./data/185472.cif\")\n",
        "  block = doc.sole_block()\n",
        "  fractionalSpace = [ block.find_pair(\"_cell_length_a\"),\n",
        "                      block.find_pair(\"_cell_length_b\"),\n",
        "                      block.find_pair(\"_cell_length_c\"),\n",
        "                      block.find_pair(\"_cell_angle_alpha\"),\n",
        "                      block.find_pair(\"_cell_angle_beta\"),\n",
        "                      block.find_pair(\"_cell_angle_gamma\")]\n",
        "\n",
        "  fractionalSpace = map(lambda x: parseCIFNum(x[1]), fractionalSpace)\n",
        "  rotationMatrix = getFractionalToCartesianRotationMatrix(*fractionalSpace)\n",
        "  \n",
        "  x = [parseCIFNum(x) for x in list(block.find_loop(\"_atom_site_fract_x\"))]\n",
        "  y = [parseCIFNum(x) for x in list(block.find_loop(\"_atom_site_fract_y\"))]\n",
        "  z = [parseCIFNum(x) for x in list(block.find_loop(\"_atom_site_fract_z\"))]\n",
        "  coords = np.array(list(zip(x,y,z)))\n",
        "\n",
        "  return coords, rotationMatrix\n",
        "  \n",
        "try:\n",
        "  coords, rotationMatrix = parseCIFFile(\"./data/185472.cif\")\n",
        "  cartesian = np.matmul(coords, rotationMatrix)\n",
        "  fig = plt.figure()\n",
        "  ax = fig.add_subplot(111, projection='3d')\n",
        "  plotSpheres(cartesian * 30, ax)\n",
        "  plt.show()\n",
        "  \n",
        "except Exception as e:\n",
        "  print(e)"
      ],
      "execution_count": null,
      "outputs": [
        {
          "output_type": "error",
          "ename": "ImportError",
          "evalue": "ignored",
          "traceback": [
            "\u001b[0;31m---------------------------------------------------------------------------\u001b[0m",
            "\u001b[0;31mImportError\u001b[0m                               Traceback (most recent call last)",
            "\u001b[0;32m/usr/local/lib/python3.6/dist-packages/IPython/core/formatters.py\u001b[0m in \u001b[0;36m__call__\u001b[0;34m(self, obj)\u001b[0m\n\u001b[1;32m    332\u001b[0m                 \u001b[0;32mpass\u001b[0m\u001b[0;34m\u001b[0m\u001b[0;34m\u001b[0m\u001b[0m\n\u001b[1;32m    333\u001b[0m             \u001b[0;32melse\u001b[0m\u001b[0;34m:\u001b[0m\u001b[0;34m\u001b[0m\u001b[0;34m\u001b[0m\u001b[0m\n\u001b[0;32m--> 334\u001b[0;31m                 \u001b[0;32mreturn\u001b[0m \u001b[0mprinter\u001b[0m\u001b[0;34m(\u001b[0m\u001b[0mobj\u001b[0m\u001b[0;34m)\u001b[0m\u001b[0;34m\u001b[0m\u001b[0;34m\u001b[0m\u001b[0m\n\u001b[0m\u001b[1;32m    335\u001b[0m             \u001b[0;31m# Finally look for special method names\u001b[0m\u001b[0;34m\u001b[0m\u001b[0;34m\u001b[0m\u001b[0;34m\u001b[0m\u001b[0m\n\u001b[1;32m    336\u001b[0m             \u001b[0mmethod\u001b[0m \u001b[0;34m=\u001b[0m \u001b[0mget_real_method\u001b[0m\u001b[0;34m(\u001b[0m\u001b[0mobj\u001b[0m\u001b[0;34m,\u001b[0m \u001b[0mself\u001b[0m\u001b[0;34m.\u001b[0m\u001b[0mprint_method\u001b[0m\u001b[0;34m)\u001b[0m\u001b[0;34m\u001b[0m\u001b[0;34m\u001b[0m\u001b[0m\n",
            "\u001b[0;32m/usr/local/lib/python3.6/dist-packages/IPython/core/pylabtools.py\u001b[0m in \u001b[0;36m<lambda>\u001b[0;34m(fig)\u001b[0m\n\u001b[1;32m    239\u001b[0m \u001b[0;34m\u001b[0m\u001b[0m\n\u001b[1;32m    240\u001b[0m     \u001b[0;32mif\u001b[0m \u001b[0;34m'png'\u001b[0m \u001b[0;32min\u001b[0m \u001b[0mformats\u001b[0m\u001b[0;34m:\u001b[0m\u001b[0;34m\u001b[0m\u001b[0;34m\u001b[0m\u001b[0m\n\u001b[0;32m--> 241\u001b[0;31m         \u001b[0mpng_formatter\u001b[0m\u001b[0;34m.\u001b[0m\u001b[0mfor_type\u001b[0m\u001b[0;34m(\u001b[0m\u001b[0mFigure\u001b[0m\u001b[0;34m,\u001b[0m \u001b[0;32mlambda\u001b[0m \u001b[0mfig\u001b[0m\u001b[0;34m:\u001b[0m \u001b[0mprint_figure\u001b[0m\u001b[0;34m(\u001b[0m\u001b[0mfig\u001b[0m\u001b[0;34m,\u001b[0m \u001b[0;34m'png'\u001b[0m\u001b[0;34m,\u001b[0m \u001b[0;34m**\u001b[0m\u001b[0mkwargs\u001b[0m\u001b[0;34m)\u001b[0m\u001b[0;34m)\u001b[0m\u001b[0;34m\u001b[0m\u001b[0;34m\u001b[0m\u001b[0m\n\u001b[0m\u001b[1;32m    242\u001b[0m     \u001b[0;32mif\u001b[0m \u001b[0;34m'retina'\u001b[0m \u001b[0;32min\u001b[0m \u001b[0mformats\u001b[0m \u001b[0;32mor\u001b[0m \u001b[0;34m'png2x'\u001b[0m \u001b[0;32min\u001b[0m \u001b[0mformats\u001b[0m\u001b[0;34m:\u001b[0m\u001b[0;34m\u001b[0m\u001b[0;34m\u001b[0m\u001b[0m\n\u001b[1;32m    243\u001b[0m         \u001b[0mpng_formatter\u001b[0m\u001b[0;34m.\u001b[0m\u001b[0mfor_type\u001b[0m\u001b[0;34m(\u001b[0m\u001b[0mFigure\u001b[0m\u001b[0;34m,\u001b[0m \u001b[0;32mlambda\u001b[0m \u001b[0mfig\u001b[0m\u001b[0;34m:\u001b[0m \u001b[0mretina_figure\u001b[0m\u001b[0;34m(\u001b[0m\u001b[0mfig\u001b[0m\u001b[0;34m,\u001b[0m \u001b[0;34m**\u001b[0m\u001b[0mkwargs\u001b[0m\u001b[0;34m)\u001b[0m\u001b[0;34m)\u001b[0m\u001b[0;34m\u001b[0m\u001b[0;34m\u001b[0m\u001b[0m\n",
            "\u001b[0;32m/usr/local/lib/python3.6/dist-packages/IPython/core/pylabtools.py\u001b[0m in \u001b[0;36mprint_figure\u001b[0;34m(fig, fmt, bbox_inches, **kwargs)\u001b[0m\n\u001b[1;32m    123\u001b[0m \u001b[0;34m\u001b[0m\u001b[0m\n\u001b[1;32m    124\u001b[0m     \u001b[0mbytes_io\u001b[0m \u001b[0;34m=\u001b[0m \u001b[0mBytesIO\u001b[0m\u001b[0;34m(\u001b[0m\u001b[0;34m)\u001b[0m\u001b[0;34m\u001b[0m\u001b[0;34m\u001b[0m\u001b[0m\n\u001b[0;32m--> 125\u001b[0;31m     \u001b[0mfig\u001b[0m\u001b[0;34m.\u001b[0m\u001b[0mcanvas\u001b[0m\u001b[0;34m.\u001b[0m\u001b[0mprint_figure\u001b[0m\u001b[0;34m(\u001b[0m\u001b[0mbytes_io\u001b[0m\u001b[0;34m,\u001b[0m \u001b[0;34m**\u001b[0m\u001b[0mkw\u001b[0m\u001b[0;34m)\u001b[0m\u001b[0;34m\u001b[0m\u001b[0;34m\u001b[0m\u001b[0m\n\u001b[0m\u001b[1;32m    126\u001b[0m     \u001b[0mdata\u001b[0m \u001b[0;34m=\u001b[0m \u001b[0mbytes_io\u001b[0m\u001b[0;34m.\u001b[0m\u001b[0mgetvalue\u001b[0m\u001b[0;34m(\u001b[0m\u001b[0;34m)\u001b[0m\u001b[0;34m\u001b[0m\u001b[0;34m\u001b[0m\u001b[0m\n\u001b[1;32m    127\u001b[0m     \u001b[0;32mif\u001b[0m \u001b[0mfmt\u001b[0m \u001b[0;34m==\u001b[0m \u001b[0;34m'svg'\u001b[0m\u001b[0;34m:\u001b[0m\u001b[0;34m\u001b[0m\u001b[0;34m\u001b[0m\u001b[0m\n",
            "\u001b[0;32m/usr/local/lib/python3.6/dist-packages/matplotlib/backend_bases.py\u001b[0m in \u001b[0;36mprint_figure\u001b[0;34m(self, filename, dpi, facecolor, edgecolor, orientation, format, bbox_inches, **kwargs)\u001b[0m\n\u001b[1;32m   2092\u001b[0m         \u001b[0mhardcopy\u001b[0m\u001b[0;34m.\u001b[0m\u001b[0;34m\u001b[0m\u001b[0;34m\u001b[0m\u001b[0m\n\u001b[1;32m   2093\u001b[0m \u001b[0;34m\u001b[0m\u001b[0m\n\u001b[0;32m-> 2094\u001b[0;31m         \u001b[0mParameters\u001b[0m\u001b[0;34m\u001b[0m\u001b[0;34m\u001b[0m\u001b[0m\n\u001b[0m\u001b[1;32m   2095\u001b[0m         \u001b[0;34m-\u001b[0m\u001b[0;34m-\u001b[0m\u001b[0;34m-\u001b[0m\u001b[0;34m-\u001b[0m\u001b[0;34m-\u001b[0m\u001b[0;34m-\u001b[0m\u001b[0;34m-\u001b[0m\u001b[0;34m-\u001b[0m\u001b[0;34m-\u001b[0m\u001b[0;34m-\u001b[0m\u001b[0;34m\u001b[0m\u001b[0;34m\u001b[0m\u001b[0m\n\u001b[1;32m   2096\u001b[0m         \u001b[0mfilename\u001b[0m \u001b[0;34m:\u001b[0m \u001b[0mstr\u001b[0m \u001b[0;32mor\u001b[0m \u001b[0mpath\u001b[0m\u001b[0;34m-\u001b[0m\u001b[0mlike\u001b[0m \u001b[0;32mor\u001b[0m \u001b[0mfile\u001b[0m\u001b[0;34m-\u001b[0m\u001b[0mlike\u001b[0m\u001b[0;34m\u001b[0m\u001b[0;34m\u001b[0m\u001b[0m\n",
            "\u001b[0;32m/usr/local/lib/python3.6/dist-packages/matplotlib/backend_bases.py\u001b[0m in \u001b[0;36m_get_renderer\u001b[0;34m(figure, print_method)\u001b[0m\n\u001b[1;32m   1558\u001b[0m             \u001b[0;32mreturn\u001b[0m \u001b[0mrenderer\u001b[0m\u001b[0;34m\u001b[0m\u001b[0;34m\u001b[0m\u001b[0m\n\u001b[1;32m   1559\u001b[0m         \u001b[0;32melse\u001b[0m\u001b[0;34m:\u001b[0m\u001b[0;34m\u001b[0m\u001b[0;34m\u001b[0m\u001b[0m\n\u001b[0;32m-> 1560\u001b[0;31m             raise RuntimeError(f\"{print_method} did not call Figure.draw, so \"\n\u001b[0m\u001b[1;32m   1561\u001b[0m                                f\"no renderer is available\")\n\u001b[1;32m   1562\u001b[0m         \u001b[0;32mfinally\u001b[0m\u001b[0;34m:\u001b[0m\u001b[0;34m\u001b[0m\u001b[0;34m\u001b[0m\u001b[0m\n",
            "\u001b[0;32m/usr/local/lib/python3.6/dist-packages/matplotlib/backends/backend_agg.py\u001b[0m in \u001b[0;36mprint_png\u001b[0;34m(self, filename_or_obj, metadata, pil_kwargs, *args, **kwargs)\u001b[0m\n\u001b[1;32m    503\u001b[0m         \u001b[0mpil_kwargs\u001b[0m \u001b[0;34m:\u001b[0m \u001b[0mdict\u001b[0m\u001b[0;34m,\u001b[0m \u001b[0moptional\u001b[0m\u001b[0;34m\u001b[0m\u001b[0;34m\u001b[0m\u001b[0m\n\u001b[1;32m    504\u001b[0m             \u001b[0mKeyword\u001b[0m \u001b[0marguments\u001b[0m \u001b[0mpassed\u001b[0m \u001b[0mto\u001b[0m\u001b[0;31m \u001b[0m\u001b[0;31m`\u001b[0m\u001b[0mPIL\u001b[0m\u001b[0;34m.\u001b[0m\u001b[0mImage\u001b[0m\u001b[0;34m.\u001b[0m\u001b[0mImage\u001b[0m\u001b[0;34m.\u001b[0m\u001b[0msave\u001b[0m\u001b[0;31m`\u001b[0m\u001b[0;34m.\u001b[0m\u001b[0;34m\u001b[0m\u001b[0;34m\u001b[0m\u001b[0m\n\u001b[0;32m--> 505\u001b[0;31m \u001b[0;34m\u001b[0m\u001b[0m\n\u001b[0m\u001b[1;32m    506\u001b[0m             \u001b[0mIf\u001b[0m \u001b[0mthe\u001b[0m \u001b[0;34m'pnginfo'\u001b[0m \u001b[0mkey\u001b[0m \u001b[0;32mis\u001b[0m \u001b[0mpresent\u001b[0m\u001b[0;34m,\u001b[0m \u001b[0mit\u001b[0m \u001b[0mcompletely\u001b[0m \u001b[0moverrides\u001b[0m\u001b[0;34m\u001b[0m\u001b[0;34m\u001b[0m\u001b[0m\n\u001b[1;32m    507\u001b[0m             \u001b[0;34m*\u001b[0m\u001b[0mmetadata\u001b[0m\u001b[0;34m*\u001b[0m\u001b[0;34m,\u001b[0m \u001b[0mincluding\u001b[0m \u001b[0mthe\u001b[0m \u001b[0mdefault\u001b[0m \u001b[0;34m'Software'\u001b[0m \u001b[0mkey\u001b[0m\u001b[0;34m.\u001b[0m\u001b[0;34m\u001b[0m\u001b[0;34m\u001b[0m\u001b[0m\n",
            "\u001b[0;31mImportError\u001b[0m: cannot import name '_png'"
          ]
        },
        {
          "output_type": "display_data",
          "data": {
            "text/plain": [
              "<Figure size 432x288 with 1 Axes>"
            ]
          },
          "metadata": {
            "tags": [],
            "needs_background": "light"
          }
        }
      ]
    },
    {
      "cell_type": "code",
      "metadata": {
        "id": "arev8Ltl2QYN"
      },
      "source": [
        "class Residue():\n",
        "  def __init__ (self, atoms, meanX, meanY, meanZ):\n",
        "    self.atoms = atoms\n",
        "    self.position = (meanX, meanY, meanZ)\n",
        "\n",
        "\n",
        "class Atom():\n",
        "  def __init__(self, x, y, z, atomType, residueComponents):\n",
        "    self.position = (x,y,z)\n",
        "    self.atomType = atomType\n",
        "    self.residueComponents = residueComponents\n"
      ],
      "execution_count": 8,
      "outputs": []
    },
    {
      "cell_type": "code",
      "metadata": {
        "id": "xwdokJtu1Q83",
        "outputId": "a9fc2493-3f9e-4e73-e1c1-335237dfb03b",
        "colab": {
          "base_uri": "https://localhost:8080/",
          "height": 1000
        }
      },
      "source": [
        "import pandas as pd\n",
        "\n",
        "pdb = open('data/1m46.pdb')\n",
        "data = [] ##residueCode, residueNumber, x, y, z, atomType - 2,5,6,7,8, 11\n",
        "positions = [2,5,6,7,8,-1]\n",
        "\n",
        "for line in pdb:\n",
        "    elements = line.split()\n",
        "    if elements[0] == \"ATOM\" and elements[2] not in [\"CA\", \"N\", \"O\", \"C\"]:\n",
        "        if len(elements) < 12:\n",
        "          left = elements[2][:3]\n",
        "          right = elements[2][3:]\n",
        "          elements[2] = left\n",
        "          elements.insert(3,right)\n",
        "\n",
        "        item = []\n",
        "        for i in positions:\n",
        "          if i == 5:\n",
        "            item.append(int(elements[i]))\n",
        "          elif i in [6,7,8]:\n",
        "            item.append(float(elements[i]))\n",
        "          else:\n",
        "            item.append(elements[i])\n",
        "          \n",
        "        data.append(item)\n",
        "\n",
        "df = pd.DataFrame(data = data, columns = [\"residueCode\", \"residueNumber\", \"x\", \"y\", \"z\", \"atomType\"])\n",
        "df = df.groupby(by = ['residueNumber'])\n",
        "\n",
        "residues = []\n",
        "for key, item in df:\n",
        "    atoms = []\n",
        "    atomDf = df.get_group(key)\n",
        "    for index, row in atomDf.iterrows():\n",
        "      atoms.append(Atom(row[\"x\"], row[\"y\"], row[\"z\"], row[\"atomType\"], row[\"residueCode\"]))\n",
        "    residues.append(Residue(atoms, atomDf[\"x\"].mean(), atomDf[\"y\"].mean(), atomDf[\"z\"].mean()))\n",
        "for residue in residues:\n",
        "  print(len(residue.atoms), residue.position)\n",
        "\n"
      ],
      "execution_count": 13,
      "outputs": [
        {
          "output_type": "stream",
          "text": [
            "2 (11.2025, 73.72, -4.494)\n",
            "1 (8.433, 75.418, -7.783)\n",
            "3 (10.886333333333333, 81.46133333333333, -7.092666666666666)\n",
            "7 (4.244714285714285, 79.85657142857144, -12.630571428571429)\n",
            "1 (4.794, 76.593, -5.315)\n",
            "4 (8.94425, 78.15625, -2.65625)\n",
            "5 (5.9037999999999995, 85.48920000000001, -6.8538)\n",
            "4 (1.5470000000000002, 81.78425, -6.4342500000000005)\n",
            "4 (2.7459999999999996, 78.67175, -0.19224999999999998)\n",
            "7 (6.385571428571429, 86.38485714285714, 1.192)\n",
            "3 (0.9973333333333333, 86.19666666666666, -2.3813333333333335)\n",
            "4 (-2.4627499999999998, 82.52674999999999, 0.40800000000000003)\n",
            "7 (2.426142857142857, 81.94771428571428, 5.735142857142857)\n",
            "4 (2.6755, 90.48649999999999, 2.7129999999999996)\n",
            "5 (-3.7954, 87.2314, 6.648999999999999)\n",
            "5 (1.489, 93.8244, 9.096599999999999)\n",
            "5 (4.8948, 95.2936, 6.447399999999999)\n",
            "1 (8.16, 91.876, 5.212)\n",
            "4 (6.072, 86.222, 6.2459999999999996)\n",
            "1 (5.35, 87.953, 11.853)\n",
            "5 (12.999, 87.0212, 13.319399999999998)\n",
            "4 (7.745500000000001, 85.05425, 16.262999999999998)\n",
            "2 (4.547000000000001, 84.04849999999999, 10.511)\n",
            "4 (11.61475, 81.8245, 8.550500000000001)\n",
            "4 (3.4435000000000002, 78.6765, 11.12425)\n",
            "8 (7.359874999999999, 80.887125, 2.9048749999999997)\n",
            "4 (11.239999999999998, 77.5735, 6.2735)\n",
            "7 (6.559857142857143, 73.99000000000001, 10.672714285714287)\n",
            "1 (3.032, 76.62, 4.199)\n",
            "4 (7.880999999999999, 76.681, 1.1117499999999998)\n",
            "8 (12.376249999999999, 73.23275000000001, 2.1788749999999997)\n",
            "8 (8.521500000000001, 68.24862499999999, 8.376875)\n",
            "3 (11.711333333333334, 73.23700000000001, 9.156666666666666)\n",
            "3 (14.025666666666666, 70.71199999999999, 14.856666666666667)\n",
            "4 (10.01, 75.26400000000001, 17.19825)\n",
            "5 (17.706200000000003, 74.71400000000001, 18.480600000000003)\n",
            "4 (17.10875, 73.4225, 10.752500000000001)\n",
            "3 (12.706333333333333, 77.767, 11.902)\n",
            "5 (14.735999999999999, 79.54580000000001, 18.017000000000003)\n",
            "4 (20.39675, 76.61, 15.5075)\n",
            "4 (17.786, 78.2785, 8.76825)\n",
            "4 (15.857000000000003, 83.58075, 12.149999999999999)\n",
            "4 (19.705750000000002, 83.00675, 16.07775)\n",
            "1 (23.455, 81.143, 10.715)\n",
            "4 (21.682000000000002, 86.498, 7.5255)\n",
            "2 (25.112499999999997, 89.7435, 10.9265)\n",
            "2 (21.1565, 91.333, 7.2275)\n",
            "4 (17.85425, 87.6945, 7.5725)\n",
            "7 (23.010857142857144, 87.84857142857142, 14.897857142857145)\n",
            "4 (19.20675, 91.33175, 16.47825)\n",
            "1 (15.089, 91.516, 10.635)\n",
            "2 (9.9295, 93.526, 13.227)\n",
            "2 (9.2665, 92.3005, 8.6785)\n",
            "4 (12.607, 87.11725, 7.90475)\n",
            "3 (12.037333333333335, 91.15533333333333, 2.221)\n",
            "4 (9.264, 86.05449999999999, -1.9515)\n",
            "4 (14.0595, 89.55725000000001, -2.963)\n",
            "5 (15.251999999999999, 90.0482, 4.3438)\n",
            "4 (11.464749999999999, 83.83425, 3.72375)\n",
            "3 (14.013333333333334, 83.28766666666667, -2.3683333333333336)\n",
            "4 (17.20175, 82.86275, 5.90825)\n",
            "4 (14.348749999999999, 78.48675, 1.01875)\n",
            "5 (19.1972, 80.44739999999999, -3.4945999999999997)\n",
            "3 (22.636666666666667, 80.65933333333334, 2.332333333333333)\n",
            "4 (20.59675, 77.62375, 5.9567499999999995)\n",
            "5 (18.504, 73.9028, -2.0356)\n",
            "5 (24.0794, 69.911, 0.38900000000000007)\n",
            "10 (21.9879, 72.8211, 6.9754000000000005)\n",
            "4 (15.49275, 74.275, 4.87575)\n",
            "4 (16.54525, 69.75025, -0.27275)\n",
            "1 (18.664, 66.663, 5.501)\n",
            "3 (13.849333333333334, 69.153, 7.308333333333334)\n",
            "3 (11.732999999999999, 67.031, 2.754)\n",
            "5 (17.250799999999998, 62.58540000000001, 5.9594000000000005)\n",
            "1 (12.667, 58.18, 2.636)\n",
            "5 (12.280199999999999, 60.0274, 9.7074)\n",
            "3 (14.852333333333334, 52.63666666666666, 8.573)\n",
            "5 (11.9422, 54.6164, 11.767000000000001)\n",
            "4 (8.813, 57.460499999999996, 6.473000000000001)\n",
            "7 (10.328285714285714, 53.52471428571429, 2.660142857142857)\n",
            "3 (10.081333333333333, 48.96866666666667, 9.477666666666666)\n",
            "5 (1.8956, 51.4162, 8.073400000000001)\n",
            "1 (5.664, 47.968, 3.181)\n",
            "7 (9.286285714285713, 44.64757142857143, 4.131571428571428)\n",
            "5 (6.498, 46.70120000000001, 11.888200000000001)\n",
            "6 (0.531, 44.93483333333334, 7.1000000000000005)\n",
            "7 (1.9095714285714285, 41.668714285714294, 4.0448571428571425)\n",
            "4 (7.3445, 40.02275, 11.109749999999998)\n",
            "5 (-0.7118, 36.333000000000006, 13.067399999999997)\n",
            "5 (3.7334000000000005, 35.1432, 15.7724)\n",
            "2 (7.118, 41.8735, 15.977)\n",
            "3 (9.757, 36.86, 12.566333333333333)\n",
            "5 (15.1982, 37.1774, 10.4474)\n",
            "3 (10.509333333333332, 39.641666666666666, 4.178)\n",
            "2 (10.128, 34.045500000000004, 2.777)\n",
            "3 (14.716, 35.138333333333335, -0.992)\n",
            "4 (6.505750000000001, 35.66375, 1.814)\n",
            "4 (12.149, 41.163000000000004, -0.38575000000000004)\n",
            "7 (12.726714285714285, 36.92385714285714, -6.905)\n",
            "8 (3.02975, 37.23925, -4.539875)\n",
            "4 (6.2385, 42.23325, 0.10349999999999998)\n",
            "4 (10.407250000000001, 44.28525, -3.7475000000000005)\n",
            "3 (8.469, 40.37766666666667, -8.620666666666667)\n",
            "4 (1.35425, 43.63675, -4.0395)\n",
            "5 (6.0371999999999995, 52.5852, -9.9992)\n",
            "5 (2.9442, 44.0354, -11.3766)\n",
            "4 (11.1405, 46.648, -8.322)\n",
            "3 (11.689, 43.21633333333333, -14.161000000000001)\n",
            "4 (11.496000000000002, 37.41575, -11.446000000000002)\n",
            "1 (15.988, 41.202, -14.637)\n",
            "5 (13.6838, 46.3722, -12.2212)\n",
            "3 (13.613999999999999, 41.13433333333333, -6.948333333333333)\n",
            "4 (17.49775, 37.72775, -10.11975)\n",
            "5 (22.128200000000003, 43.8246, -10.583)\n",
            "4 (17.067999999999998, 45.03, -4.237500000000001)\n",
            "4 (17.6295, 39.339, -3.7045000000000003)\n",
            "5 (24.195, 41.117399999999996, -8.3)\n",
            "3 (19.42833333333333, 41.98500000000001, 0.31066666666666665)\n",
            "5 (23.624000000000002, 37.8954, 5.210800000000001)\n",
            "3 (19.060333333333332, 35.57633333333333, 1.214)\n",
            "4 (18.636499999999998, 33.772999999999996, 7.72475)\n",
            "2 (20.9105, 28.7525, 6.8309999999999995)\n",
            "4 (16.468, 29.13025, 8.43225)\n",
            "5 (13.375399999999999, 33.6408, 7.7908)\n",
            "4 (15.9385, 39.26475, 3.0072500000000004)\n",
            "4 (17.355249999999998, 42.376, 9.968)\n",
            "8 (10.515625, 43.306, 8.57)\n",
            "5 (13.064400000000001, 47.12079999999999, 11.8878)\n",
            "5 (21.755599999999998, 45.281, 7.2543999999999995)\n",
            "7 (15.282857142857141, 45.19728571428571, 1.4195714285714285)\n",
            "4 (13.220749999999999, 49.337999999999994, 4.97925)\n",
            "5 (18.848599999999998, 50.2512, 9.2452)\n",
            "4 (22.3255, 47.993750000000006, 3.9895000000000005)\n",
            "3 (16.774666666666665, 50.225, -0.3153333333333333)\n",
            "4 (15.75325, 54.41775, 3.0205)\n",
            "7 (24.56728571428572, 53.466714285714296, 5.655571428571427)\n",
            "6 (23.051166666666663, 56.10750000000001, -1.8840000000000001)\n",
            "2 (-0.914, 53.786500000000004, 4.4055)\n",
            "3 (-0.053666666666666675, 47.793, 3.1346666666666665)\n",
            "4 (-1.3582500000000002, 47.95425, -2.626)\n",
            "7 (-0.9909999999999999, 55.88942857142856, 1.4994285714285716)\n",
            "3 (4.373666666666667, 52.077333333333335, 2.861666666666667)\n",
            "4 (4.4102500000000004, 47.23425, -1.31275)\n",
            "3 (3.6410000000000005, 52.43966666666666, -5.381333333333333)\n",
            "4 (5.93625, 56.089, -1.5524999999999998)\n",
            "4 (10.62725, 49.518, -0.36800000000000005)\n",
            "5 (7.199, 48.553599999999996, -6.079600000000001)\n",
            "5 (7.894, 55.9894, -7.059400000000001)\n",
            "5 (13.349799999999998, 56.5318, -1.7692)\n",
            "4 (14.11275, 48.58625000000001, -4.508)\n",
            "7 (11.369142857142858, 50.51385714285714, -11.327)\n",
            "5 (15.536599999999998, 57.6716, -9.083599999999999)\n",
            "5 (20.6008, 51.5576, -4.0638)\n",
            "4 (18.058, 48.416, -9.214749999999999)\n",
            "5 (16.7188, 54.708600000000004, -12.3186)\n",
            "5 (22.9418, 56.886, -7.801)\n",
            "7 (23.299, 48.02885714285714, -6.475142857142857)\n",
            "5 (23.3772, 49.7984, -14.9014)\n",
            "4 (24.5365, 57.022999999999996, -13.304)\n",
            "5 (29.2786, 54.3796, -7.692399999999999)\n",
            "5 (27.5422, 48.84499999999999, -15.249199999999998)\n",
            "6 (28.0745, 52.00566666666666, -18.402999999999995)\n"
          ],
          "name": "stdout"
        }
      ]
    },
    {
      "cell_type": "code",
      "metadata": {
        "id": "NxCNAw2TtS7L"
      },
      "source": [
        ""
      ],
      "execution_count": null,
      "outputs": []
    }
  ]
}